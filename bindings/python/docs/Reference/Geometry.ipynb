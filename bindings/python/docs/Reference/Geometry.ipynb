{
 "cells": [
  {
   "cell_type": "markdown",
   "metadata": {},
   "source": [
    "# Open Space Toolkit ▸ Mathematics ▸ Geometry"
   ]
  },
  {
   "cell_type": "markdown",
   "metadata": {},
   "source": [
    "## Setup"
   ]
  },
  {
   "cell_type": "code",
   "execution_count": 1,
   "metadata": {},
   "outputs": [],
   "source": [
    "import sys\n",
    "\n",
    "! {sys.executable} -m pip install --quiet OpenSpaceToolkitMathematicsPy"
   ]
  },
  {
   "cell_type": "code",
   "execution_count": 2,
   "metadata": {},
   "outputs": [],
   "source": [
    "import numpy"
   ]
  },
  {
   "cell_type": "code",
   "execution_count": 3,
   "metadata": {},
   "outputs": [],
   "source": [
    "import Library.Mathematics as Mathematics"
   ]
  },
  {
   "cell_type": "code",
   "execution_count": 4,
   "metadata": {},
   "outputs": [],
   "source": [
    "Angle = Mathematics.Geometry.Angle\n",
    "\n",
    "Point2d = Mathematics.Geometry.D2.Objects.Point\n",
    "Polygon2d = Mathematics.Geometry.D2.Objects.Polygon\n",
    "Transformation2d = Mathematics.Geometry.D2.Transformation\n",
    "Point3d = Mathematics.Geometry.D3.Objects.Point\n",
    "PointSet3d = Mathematics.Geometry.D3.Objects.PointSet\n",
    "Line3d = Mathematics.Geometry.D3.Objects.Line\n",
    "Ray3d = Mathematics.Geometry.D3.Objects.Ray\n",
    "Segment3d = Mathematics.Geometry.D3.Objects.Segment\n",
    "Plane = Mathematics.Geometry.D3.Objects.Plane\n",
    "Polygon3d = Mathematics.Geometry.D3.Objects.Polygon\n",
    "Cuboid = Mathematics.Geometry.D3.Objects.Cuboid\n",
    "Sphere = Mathematics.Geometry.D3.Objects.Sphere\n",
    "Ellipsoid = Mathematics.Geometry.D3.Objects.Ellipsoid\n",
    "Transformation3d = Mathematics.Geometry.D3.Transformation\n",
    "Quaternion = Mathematics.Geometry.D3.Transformations.Rotations.Quaternion\n",
    "RotationVector = Mathematics.Geometry.D3.Transformations.Rotations.RotationVector\n",
    "RotationMatrix = Mathematics.Geometry.D3.Transformations.Rotations.RotationMatrix"
   ]
  },
  {
   "cell_type": "markdown",
   "metadata": {},
   "source": [
    "---"
   ]
  },
  {
   "cell_type": "markdown",
   "metadata": {},
   "source": [
    "## Geometry"
   ]
  },
  {
   "cell_type": "markdown",
   "metadata": {},
   "source": [
    "### Geometry ▸ Angle"
   ]
  },
  {
   "cell_type": "markdown",
   "metadata": {},
   "source": [
    "**Geometry ▸ Angle ▸ Constructors**"
   ]
  },
  {
   "cell_type": "code",
   "execution_count": 5,
   "metadata": {},
   "outputs": [],
   "source": [
    "angle = Angle(1.0, Angle.Unit.Radian)\n",
    "\n",
    "angle = Angle.Radians(1.0)\n",
    "angle = Angle.Degrees(1.0)\n",
    "angle = Angle.Arcminutes(1.0)\n",
    "angle = Angle.Arcseconds(1.0)\n",
    "angle = Angle.Revolutions(1.0)"
   ]
  },
  {
   "cell_type": "markdown",
   "metadata": {},
   "source": [
    "**Geometry ▸ Angle ▸ Operators**"
   ]
  },
  {
   "cell_type": "code",
   "execution_count": 6,
   "metadata": {},
   "outputs": [],
   "source": [
    "angle = angle + angle\n",
    "angle = angle - angle\n",
    "angle = angle * 3.0\n",
    "angle = angle / 3.0\n",
    "\n",
    "angle += angle\n",
    "angle -= angle\n",
    "angle *= 3.0\n",
    "angle /= 3.0"
   ]
  },
  {
   "cell_type": "markdown",
   "metadata": {},
   "source": [
    "**Geometry ▸ Angle ▸ Methods**"
   ]
  },
  {
   "cell_type": "code",
   "execution_count": 7,
   "metadata": {},
   "outputs": [],
   "source": [
    "angle.isDefined() ;"
   ]
  },
  {
   "cell_type": "code",
   "execution_count": 8,
   "metadata": {},
   "outputs": [],
   "source": [
    "angle.getUnit() ;"
   ]
  },
  {
   "cell_type": "code",
   "execution_count": 9,
   "metadata": {},
   "outputs": [],
   "source": [
    "angle.inUnit(Angle.Unit.Degree) ;\n",
    "\n",
    "angle.inRadians() ;\n",
    "angle.inDegrees() ;\n",
    "angle.inArcminutes() ;\n",
    "angle.inArcseconds() ;\n",
    "angle.inRevolutions() ;"
   ]
  },
  {
   "cell_type": "code",
   "execution_count": 10,
   "metadata": {},
   "outputs": [],
   "source": [
    "angle.toString() ;\n",
    "angle.toString(3) ;"
   ]
  },
  {
   "cell_type": "markdown",
   "metadata": {},
   "source": [
    "### Geometry ▸ 2D"
   ]
  },
  {
   "cell_type": "markdown",
   "metadata": {},
   "source": [
    "#### Geometry ▸ 2D ▸ Objects ▸ Point"
   ]
  },
  {
   "cell_type": "markdown",
   "metadata": {},
   "source": [
    "**Geometry ▸ 2D ▸ Objects ▸ Point ▸ Constructors**"
   ]
  },
  {
   "cell_type": "code",
   "execution_count": 11,
   "metadata": {},
   "outputs": [],
   "source": [
    "point = Point2d(0.0, 0.0) ;"
   ]
  },
  {
   "cell_type": "code",
   "execution_count": 12,
   "metadata": {},
   "outputs": [],
   "source": [
    "Point2d.Undefined() ;"
   ]
  },
  {
   "cell_type": "code",
   "execution_count": 13,
   "metadata": {},
   "outputs": [],
   "source": [
    "Point2d.Origin() ;"
   ]
  },
  {
   "cell_type": "code",
   "execution_count": 14,
   "metadata": {},
   "outputs": [],
   "source": [
    "Point2d.Vector(numpy.array((0.0, 0.0))) ;"
   ]
  },
  {
   "cell_type": "markdown",
   "metadata": {},
   "source": [
    "**Geometry ▸ 2D ▸ Objects ▸ Point ▸ Operators**"
   ]
  },
  {
   "cell_type": "code",
   "execution_count": 15,
   "metadata": {},
   "outputs": [],
   "source": [
    "point == point ;\n",
    "point != point ;"
   ]
  },
  {
   "cell_type": "code",
   "execution_count": 16,
   "metadata": {},
   "outputs": [],
   "source": [
    "point = point + numpy.array((0.0, 0.0)) ;\n",
    "point = point - numpy.array((0.0, 0.0)) ;"
   ]
  },
  {
   "cell_type": "code",
   "execution_count": 17,
   "metadata": {},
   "outputs": [],
   "source": [
    "vector = point - point ;"
   ]
  },
  {
   "cell_type": "markdown",
   "metadata": {},
   "source": [
    "**Geometry ▸ 2D ▸ Objects ▸ Point ▸ Methods**"
   ]
  },
  {
   "cell_type": "code",
   "execution_count": 18,
   "metadata": {},
   "outputs": [],
   "source": [
    "point.isDefined() ;"
   ]
  },
  {
   "cell_type": "code",
   "execution_count": 19,
   "metadata": {},
   "outputs": [],
   "source": [
    "point.applyTransformation(Transformation2d.Identity()) ;"
   ]
  },
  {
   "cell_type": "markdown",
   "metadata": {},
   "source": [
    "### Geometry ▸ 3D"
   ]
  },
  {
   "cell_type": "markdown",
   "metadata": {},
   "source": [
    "#### Geometry ▸ 3D ▸ Objects ▸ Point"
   ]
  },
  {
   "cell_type": "markdown",
   "metadata": {},
   "source": [
    "**Geometry ▸ 3D ▸ Objects ▸ Point ▸ Constructors**"
   ]
  },
  {
   "cell_type": "code",
   "execution_count": 20,
   "metadata": {},
   "outputs": [],
   "source": [
    "point = Point3d(0.0, 0.0, 0.0) ;"
   ]
  },
  {
   "cell_type": "code",
   "execution_count": 21,
   "metadata": {},
   "outputs": [],
   "source": [
    "Point3d.Undefined() ;"
   ]
  },
  {
   "cell_type": "code",
   "execution_count": 22,
   "metadata": {},
   "outputs": [],
   "source": [
    "Point3d.Origin() ;"
   ]
  },
  {
   "cell_type": "code",
   "execution_count": 23,
   "metadata": {},
   "outputs": [],
   "source": [
    "Point3d.Vector(numpy.array((0.0, 0.0, 0.0))) ;"
   ]
  },
  {
   "cell_type": "markdown",
   "metadata": {},
   "source": [
    "**Geometry ▸ 3D ▸ Objects ▸ Point ▸ Operators**"
   ]
  },
  {
   "cell_type": "code",
   "execution_count": 24,
   "metadata": {},
   "outputs": [],
   "source": [
    "point == point ;\n",
    "point != point ;"
   ]
  },
  {
   "cell_type": "code",
   "execution_count": 25,
   "metadata": {},
   "outputs": [],
   "source": [
    "point = point + numpy.array((0.0, 0.0, 0.0)) ;\n",
    "point = point - numpy.array((0.0, 0.0, 0.0)) ;"
   ]
  },
  {
   "cell_type": "code",
   "execution_count": 26,
   "metadata": {},
   "outputs": [],
   "source": [
    "vector = point - point ;"
   ]
  },
  {
   "cell_type": "markdown",
   "metadata": {},
   "source": [
    "**Geometry ▸ 3D ▸ Objects ▸ Point ▸ Methods**"
   ]
  },
  {
   "cell_type": "code",
   "execution_count": 27,
   "metadata": {},
   "outputs": [],
   "source": [
    "point.isDefined() ;"
   ]
  },
  {
   "cell_type": "code",
   "execution_count": 28,
   "metadata": {},
   "outputs": [],
   "source": [
    "point.applyTransformation(Transformation3d.Identity()) ;"
   ]
  },
  {
   "cell_type": "markdown",
   "metadata": {},
   "source": [
    "#### Geometry ▸ 3D ▸ Objects ▸ PointSet"
   ]
  },
  {
   "cell_type": "markdown",
   "metadata": {},
   "source": [
    "**Geometry ▸ 3D ▸ Objects ▸ PointSet ▸ Constructors**"
   ]
  },
  {
   "cell_type": "code",
   "execution_count": 29,
   "metadata": {},
   "outputs": [],
   "source": [
    "pointSet = PointSet3d([Point3d(0.0, 0.0, 0.0), Point3d(1.0, 0.0, 0.0)]) ;"
   ]
  },
  {
   "cell_type": "code",
   "execution_count": 30,
   "metadata": {},
   "outputs": [],
   "source": [
    "PointSet3d.Empty() ;"
   ]
  },
  {
   "cell_type": "markdown",
   "metadata": {},
   "source": [
    "**Geometry ▸ 3D ▸ Objects ▸ PointSet ▸ Operators**"
   ]
  },
  {
   "cell_type": "code",
   "execution_count": 31,
   "metadata": {},
   "outputs": [],
   "source": [
    "pointSet == pointSet ;\n",
    "pointSet != pointSet ;"
   ]
  },
  {
   "cell_type": "code",
   "execution_count": 32,
   "metadata": {},
   "outputs": [],
   "source": [
    "[point for point in pointSet] ;"
   ]
  },
  {
   "cell_type": "markdown",
   "metadata": {},
   "source": [
    "**Geometry ▸ 3D ▸ Objects ▸ PointSet ▸ Methods**"
   ]
  },
  {
   "cell_type": "code",
   "execution_count": 33,
   "metadata": {},
   "outputs": [],
   "source": [
    "pointSet.isDefined() ;"
   ]
  },
  {
   "cell_type": "code",
   "execution_count": 34,
   "metadata": {},
   "outputs": [],
   "source": [
    "pointSet.isEmpty() ;"
   ]
  },
  {
   "cell_type": "code",
   "execution_count": 35,
   "metadata": {},
   "outputs": [],
   "source": [
    "pointSet.isNear(pointSet, 1e-15) ;"
   ]
  },
  {
   "cell_type": "code",
   "execution_count": 36,
   "metadata": {},
   "outputs": [],
   "source": [
    "pointSet.getSize() ;"
   ]
  },
  {
   "cell_type": "code",
   "execution_count": 37,
   "metadata": {},
   "outputs": [],
   "source": [
    "pointSet.getPointClosestTo(Point3d(0.0, 0.0, 0.0)) ;"
   ]
  },
  {
   "cell_type": "code",
   "execution_count": 38,
   "metadata": {},
   "outputs": [],
   "source": [
    "pointSet.applyTransformation(Transformation3d.Identity()) ;"
   ]
  },
  {
   "cell_type": "markdown",
   "metadata": {},
   "source": [
    "#### Geometry ▸ 3D ▸ Objects ▸ Line"
   ]
  },
  {
   "cell_type": "markdown",
   "metadata": {},
   "source": [
    "*To be completed...*"
   ]
  },
  {
   "cell_type": "markdown",
   "metadata": {},
   "source": [
    "#### Geometry ▸ 3D ▸ Objects ▸ Ray"
   ]
  },
  {
   "cell_type": "markdown",
   "metadata": {},
   "source": [
    "*To be completed...*"
   ]
  },
  {
   "cell_type": "markdown",
   "metadata": {},
   "source": [
    "#### Geometry ▸ 3D ▸ Objects ▸ Segment"
   ]
  },
  {
   "cell_type": "markdown",
   "metadata": {},
   "source": [
    "**Geometry ▸ 3D ▸ Objects ▸ Segment ▸ Constructors**"
   ]
  },
  {
   "cell_type": "code",
   "execution_count": 39,
   "metadata": {},
   "outputs": [],
   "source": [
    "segment = Segment3d(Point3d(0.0, 0.0, 0.0), Point3d(1.0, 0.0, 0.0)) ;"
   ]
  },
  {
   "cell_type": "code",
   "execution_count": 40,
   "metadata": {},
   "outputs": [],
   "source": [
    "Segment3d.Undefined() ;"
   ]
  },
  {
   "cell_type": "markdown",
   "metadata": {},
   "source": [
    "**Geometry ▸ 3D ▸ Objects ▸ Segment ▸ Operators**"
   ]
  },
  {
   "cell_type": "code",
   "execution_count": 41,
   "metadata": {},
   "outputs": [],
   "source": [
    "segment == segment ;\n",
    "segment != segment ;"
   ]
  },
  {
   "cell_type": "markdown",
   "metadata": {},
   "source": [
    "**Geometry ▸ 3D ▸ Objects ▸ Segment ▸ Methods**"
   ]
  },
  {
   "cell_type": "code",
   "execution_count": 42,
   "metadata": {},
   "outputs": [],
   "source": [
    "segment.isDefined() ;"
   ]
  },
  {
   "cell_type": "code",
   "execution_count": 43,
   "metadata": {},
   "outputs": [],
   "source": [
    "segment.isDegenerate() ;"
   ]
  },
  {
   "cell_type": "code",
   "execution_count": 44,
   "metadata": {},
   "outputs": [],
   "source": [
    "# segment.intersectsEllipsoid(D3.Objects.Ellipsoid.Undefined()) ;"
   ]
  },
  {
   "cell_type": "code",
   "execution_count": 45,
   "metadata": {},
   "outputs": [],
   "source": [
    "# segment.contains() ;"
   ]
  },
  {
   "cell_type": "code",
   "execution_count": 46,
   "metadata": {},
   "outputs": [],
   "source": [
    "segment.getFirstPoint() ;\n",
    "segment.getSecondPoint() ;"
   ]
  },
  {
   "cell_type": "code",
   "execution_count": 47,
   "metadata": {},
   "outputs": [],
   "source": [
    "segment.getCenter() ;"
   ]
  },
  {
   "cell_type": "code",
   "execution_count": 48,
   "metadata": {},
   "outputs": [],
   "source": [
    "segment.getDirection() ;"
   ]
  },
  {
   "cell_type": "code",
   "execution_count": 49,
   "metadata": {},
   "outputs": [],
   "source": [
    "segment.getLength() ;"
   ]
  },
  {
   "cell_type": "code",
   "execution_count": 50,
   "metadata": {},
   "outputs": [],
   "source": [
    "segment.applyTransformation(Transformation3d.Identity()) ;"
   ]
  },
  {
   "cell_type": "markdown",
   "metadata": {},
   "source": [
    "#### Geometry ▸ 3D ▸ Objects ▸ Plane"
   ]
  },
  {
   "cell_type": "markdown",
   "metadata": {},
   "source": [
    "*To be completed...*"
   ]
  },
  {
   "cell_type": "markdown",
   "metadata": {},
   "source": [
    "#### Geometry ▸ 3D ▸ Objects ▸ Polygon"
   ]
  },
  {
   "cell_type": "markdown",
   "metadata": {},
   "source": [
    "**Geometry ▸ 3D ▸ Objects ▸ Polygon ▸ Constructors**"
   ]
  },
  {
   "cell_type": "code",
   "execution_count": 51,
   "metadata": {},
   "outputs": [],
   "source": [
    "polygon2d = Polygon2d([Point2d(0.0, 0.0), Point2d(1.0, 0.0), Point2d(0.0, 1.0)])\n",
    "origin = Point3d(0.0, 0.0, 0.0)\n",
    "x_axis = numpy.array((1.0, 0.0, 0.0))\n",
    "y_axis = numpy.array((0.0, 1.0, 0.0))\n",
    "\n",
    "polygon = Polygon3d(polygon2d, origin, x_axis, y_axis)"
   ]
  },
  {
   "cell_type": "code",
   "execution_count": 52,
   "metadata": {},
   "outputs": [],
   "source": [
    "Polygon3d.Undefined() ;"
   ]
  },
  {
   "cell_type": "markdown",
   "metadata": {},
   "source": [
    "**Geometry ▸ 3D ▸ Objects ▸ Polygon ▸ Operators**"
   ]
  },
  {
   "cell_type": "code",
   "execution_count": 53,
   "metadata": {},
   "outputs": [],
   "source": [
    "polygon == polygon ;\n",
    "polygon != polygon ;"
   ]
  },
  {
   "cell_type": "markdown",
   "metadata": {},
   "source": [
    "**Geometry ▸ 3D ▸ Objects ▸ Polygon ▸ Methods**"
   ]
  },
  {
   "cell_type": "code",
   "execution_count": 54,
   "metadata": {},
   "outputs": [],
   "source": [
    "polygon.isDefined() ;"
   ]
  },
  {
   "cell_type": "code",
   "execution_count": 55,
   "metadata": {},
   "outputs": [],
   "source": [
    "polygon.isNear(polygon, 0.0) ;"
   ]
  },
  {
   "cell_type": "code",
   "execution_count": 56,
   "metadata": {},
   "outputs": [],
   "source": [
    "polygon.getPolygon2d() ;"
   ]
  },
  {
   "cell_type": "code",
   "execution_count": 57,
   "metadata": {},
   "outputs": [],
   "source": [
    "polygon.getOrigin() ;"
   ]
  },
  {
   "cell_type": "code",
   "execution_count": 58,
   "metadata": {},
   "outputs": [],
   "source": [
    "polygon.getXAxis() ;\n",
    "polygon.getYAxis() ;"
   ]
  },
  {
   "cell_type": "code",
   "execution_count": 59,
   "metadata": {},
   "outputs": [],
   "source": [
    "polygon.getNormalVector() ;"
   ]
  },
  {
   "cell_type": "code",
   "execution_count": 60,
   "metadata": {},
   "outputs": [],
   "source": [
    "polygon.applyTransformation(Transformation3d.Identity()) ;"
   ]
  },
  {
   "cell_type": "markdown",
   "metadata": {},
   "source": [
    "#### Geometry ▸ 3D ▸ Objects ▸ Cuboid"
   ]
  },
  {
   "cell_type": "markdown",
   "metadata": {},
   "source": [
    "**Geometry ▸ 3D ▸ Objects ▸ Cuboid ▸ Constructors**"
   ]
  },
  {
   "cell_type": "code",
   "execution_count": 61,
   "metadata": {},
   "outputs": [],
   "source": [
    "center = Point3d(0.0, 0.0, 0.0)\n",
    "axes = [numpy.array((1.0, 0.0, 0.0)), numpy.array((0.0, 1.0, 0.0)), numpy.array((0.0, 0.0, 1.0))]\n",
    "extent = [1.0, 2.0, 3.0]\n",
    "\n",
    "cuboid = Cuboid(center, axes, extent) ;"
   ]
  },
  {
   "cell_type": "code",
   "execution_count": 62,
   "metadata": {},
   "outputs": [],
   "source": [
    "Cuboid.Undefined() ;"
   ]
  },
  {
   "cell_type": "markdown",
   "metadata": {},
   "source": [
    "**Geometry ▸ 3D ▸ Objects ▸ Cuboid ▸ Operators**"
   ]
  },
  {
   "cell_type": "code",
   "execution_count": 63,
   "metadata": {},
   "outputs": [],
   "source": [
    "cuboid == cuboid ;\n",
    "cuboid != cuboid ;"
   ]
  },
  {
   "cell_type": "markdown",
   "metadata": {},
   "source": [
    "**Geometry ▸ 3D ▸ Objects ▸ Cuboid ▸ Methods**"
   ]
  },
  {
   "cell_type": "code",
   "execution_count": 64,
   "metadata": {},
   "outputs": [],
   "source": [
    "cuboid.isDefined() ;"
   ]
  },
  {
   "cell_type": "code",
   "execution_count": 65,
   "metadata": {},
   "outputs": [],
   "source": [
    "cuboid.isNear(cuboid, 0.0) ;"
   ]
  },
  {
   "cell_type": "code",
   "execution_count": 66,
   "metadata": {},
   "outputs": [],
   "source": [
    "cuboid.intersectsPoint(Point3d(0.0, 0.0, 0.0)) ;"
   ]
  },
  {
   "cell_type": "code",
   "execution_count": 67,
   "metadata": {},
   "outputs": [],
   "source": [
    "cuboid.intersectsPointSet(PointSet3d([Point3d(0.0, 0.0, 0.0), Point3d(0.0, 0.0, 0.0)])) ;"
   ]
  },
  {
   "cell_type": "code",
   "execution_count": 68,
   "metadata": {},
   "outputs": [],
   "source": [
    "cuboid.intersectsLine(Line3d(Point3d(0.0, 0.0, 0.0), numpy.array((0.0, 0.0, 1.0)))) ;"
   ]
  },
  {
   "cell_type": "code",
   "execution_count": 69,
   "metadata": {},
   "outputs": [],
   "source": [
    "cuboid.intersectsCuboid(cuboid) ;"
   ]
  },
  {
   "cell_type": "code",
   "execution_count": 70,
   "metadata": {},
   "outputs": [],
   "source": [
    "cuboid.getCenter() ;"
   ]
  },
  {
   "cell_type": "code",
   "execution_count": 71,
   "metadata": {},
   "outputs": [],
   "source": [
    "cuboid.getFirstAxis() ;\n",
    "cuboid.getSecondAxis() ;\n",
    "cuboid.getThirdAxis() ;"
   ]
  },
  {
   "cell_type": "code",
   "execution_count": 72,
   "metadata": {},
   "outputs": [],
   "source": [
    "cuboid.getFirstExtent() ;\n",
    "cuboid.getSecondExtent() ;\n",
    "cuboid.getThirdExtent() ;"
   ]
  },
  {
   "cell_type": "code",
   "execution_count": 73,
   "metadata": {},
   "outputs": [],
   "source": [
    "cuboid.getVertices() ;"
   ]
  },
  {
   "cell_type": "code",
   "execution_count": 74,
   "metadata": {},
   "outputs": [],
   "source": [
    "cuboid.applyTransformation(Transformation3d.Identity()) ;"
   ]
  },
  {
   "cell_type": "markdown",
   "metadata": {},
   "source": [
    "#### Geometry ▸ 3D ▸ Objects ▸ Sphere"
   ]
  },
  {
   "cell_type": "markdown",
   "metadata": {},
   "source": [
    "**Geometry ▸ 3D ▸ Objects ▸ Sphere ▸ Constructors**"
   ]
  },
  {
   "cell_type": "code",
   "execution_count": 75,
   "metadata": {},
   "outputs": [],
   "source": [
    "sphere = Sphere(Point3d.Origin(), 1.0) ;"
   ]
  },
  {
   "cell_type": "code",
   "execution_count": 76,
   "metadata": {},
   "outputs": [],
   "source": [
    "sphere = Sphere.Undefined() ;"
   ]
  },
  {
   "cell_type": "code",
   "execution_count": 77,
   "metadata": {},
   "outputs": [],
   "source": [
    "sphere = Sphere.Unit(Point3d.Origin()) ;"
   ]
  },
  {
   "cell_type": "markdown",
   "metadata": {},
   "source": [
    "**Geometry ▸ 3D ▸ Objects ▸ Sphere ▸ Operators**"
   ]
  },
  {
   "cell_type": "code",
   "execution_count": 78,
   "metadata": {},
   "outputs": [],
   "source": [
    "sphere == sphere ;\n",
    "sphere != sphere ;"
   ]
  },
  {
   "cell_type": "markdown",
   "metadata": {},
   "source": [
    "**Geometry ▸ 3D ▸ Objects ▸ Sphere ▸ Methods**"
   ]
  },
  {
   "cell_type": "code",
   "execution_count": 79,
   "metadata": {},
   "outputs": [],
   "source": [
    "sphere.isDefined() ;"
   ]
  },
  {
   "cell_type": "code",
   "execution_count": 80,
   "metadata": {},
   "outputs": [],
   "source": [
    "sphere.isUnitary() ;"
   ]
  },
  {
   "cell_type": "code",
   "execution_count": 81,
   "metadata": {},
   "outputs": [],
   "source": [
    "sphere.getCenter() ;"
   ]
  },
  {
   "cell_type": "code",
   "execution_count": 82,
   "metadata": {},
   "outputs": [],
   "source": [
    "sphere.getRadius() ;"
   ]
  },
  {
   "cell_type": "code",
   "execution_count": 83,
   "metadata": {},
   "outputs": [],
   "source": [
    "sphere.applyTransformation(Transformation3d.Identity()) ;"
   ]
  },
  {
   "cell_type": "markdown",
   "metadata": {},
   "source": [
    "#### Geometry ▸ 3D ▸ Objects ▸ Ellipsoid"
   ]
  },
  {
   "cell_type": "markdown",
   "metadata": {},
   "source": [
    "**Geometry ▸ 3D ▸ Objects ▸ Ellipsoid ▸ Constructors**"
   ]
  },
  {
   "cell_type": "code",
   "execution_count": 84,
   "metadata": {},
   "outputs": [],
   "source": [
    "ellipsoid = Ellipsoid.Undefined() ;"
   ]
  },
  {
   "cell_type": "code",
   "execution_count": 85,
   "metadata": {},
   "outputs": [],
   "source": [
    "ellipsoid = Ellipsoid(Point3d.Origin(), 1.0, 2.0, 3.0, Quaternion.Unit()) ;"
   ]
  },
  {
   "cell_type": "markdown",
   "metadata": {},
   "source": [
    "**Geometry ▸ 3D ▸ Objects ▸ Ellipsoid ▸ Operators**"
   ]
  },
  {
   "cell_type": "code",
   "execution_count": 86,
   "metadata": {},
   "outputs": [],
   "source": [
    "ellipsoid == ellipsoid ;\n",
    "ellipsoid != ellipsoid ;"
   ]
  },
  {
   "cell_type": "markdown",
   "metadata": {},
   "source": [
    "**Geometry ▸ 3D ▸ Objects ▸ Ellipsoid ▸ Methods**"
   ]
  },
  {
   "cell_type": "code",
   "execution_count": 87,
   "metadata": {},
   "outputs": [],
   "source": [
    "ellipsoid.isDefined() ;"
   ]
  },
  {
   "cell_type": "code",
   "execution_count": 88,
   "metadata": {},
   "outputs": [],
   "source": [
    "ellipsoid.intersectsPoint(Point3d.Origin()) ;"
   ]
  },
  {
   "cell_type": "code",
   "execution_count": 89,
   "metadata": {},
   "outputs": [],
   "source": [
    "ellipsoid.intersectsPointSet(PointSet3d([Point3d(0.0, 0.0, 0.0), Point3d(0.0, 0.0, 3.0)])) ;"
   ]
  },
  {
   "cell_type": "code",
   "execution_count": 90,
   "metadata": {},
   "outputs": [],
   "source": [
    "ellipsoid.intersectsLine(Line3d(Point3d(0.0, 0.0, 0.0), numpy.array((0.0, 0.0, 1.0)))) ;"
   ]
  },
  {
   "cell_type": "code",
   "execution_count": 91,
   "metadata": {},
   "outputs": [],
   "source": [
    "ellipsoid.intersectsRay(Ray3d(Point3d(0.0, 0.0, 5.0), numpy.array((0.0, 0.0, 1.0)))) ;"
   ]
  },
  {
   "cell_type": "code",
   "execution_count": 92,
   "metadata": {},
   "outputs": [],
   "source": [
    "ellipsoid.intersectsSegment(Segment3d(Point3d(0.0, 0.0, 0.0), Point3d(1.0, 0.0, 0.0))) ;"
   ]
  },
  {
   "cell_type": "code",
   "execution_count": 93,
   "metadata": {},
   "outputs": [],
   "source": [
    "ellipsoid.intersectsPlane(Plane(Point3d(0.0, 0.0, 0.0), numpy.array((0.0, 0.0, 1.0)))) ;"
   ]
  },
  {
   "cell_type": "code",
   "execution_count": 94,
   "metadata": {},
   "outputs": [],
   "source": [
    "ellipsoid.containsPoint(Point3d(0.0, 0.0, 0.0)) ;"
   ]
  },
  {
   "cell_type": "code",
   "execution_count": 95,
   "metadata": {},
   "outputs": [],
   "source": [
    "ellipsoid.containsPointSet(PointSet3d([Point3d(1.0, 0.0, 0.0), Point3d(0.0, 0.0, 3.0)])) ;"
   ]
  },
  {
   "cell_type": "code",
   "execution_count": 96,
   "metadata": {},
   "outputs": [],
   "source": [
    "ellipsoid.containsSegment(Segment3d(Point3d(0.0, 0.0, 0.0), Point3d(1.0, 0.0, 0.0))) ;"
   ]
  },
  {
   "cell_type": "code",
   "execution_count": 97,
   "metadata": {},
   "outputs": [],
   "source": [
    "ellipsoid.getCenter() ;"
   ]
  },
  {
   "cell_type": "code",
   "execution_count": 98,
   "metadata": {},
   "outputs": [],
   "source": [
    "ellipsoid.getFirstPrincipalSemiAxis() ;\n",
    "ellipsoid.getSecondPrincipalSemiAxis() ;\n",
    "ellipsoid.getThirdPrincipalSemiAxis() ;"
   ]
  },
  {
   "cell_type": "code",
   "execution_count": 99,
   "metadata": {},
   "outputs": [],
   "source": [
    "ellipsoid.getFirstAxis() ;\n",
    "ellipsoid.getSecondAxis() ;\n",
    "ellipsoid.getThirdAxis() ;"
   ]
  },
  {
   "cell_type": "code",
   "execution_count": 100,
   "metadata": {},
   "outputs": [],
   "source": [
    "ellipsoid.getOrientation() ;"
   ]
  },
  {
   "cell_type": "code",
   "execution_count": 101,
   "metadata": {},
   "outputs": [],
   "source": [
    "ellipsoid.getMatrix() ;"
   ]
  },
  {
   "cell_type": "code",
   "execution_count": 102,
   "metadata": {},
   "outputs": [],
   "source": [
    "ellipsoid.intersectionWithLine(Line3d(Point3d(0.0, 0.0, 0.0), numpy.array((0.0, 0.0, 1.0)))) ;"
   ]
  },
  {
   "cell_type": "code",
   "execution_count": 103,
   "metadata": {},
   "outputs": [],
   "source": [
    "ellipsoid.intersectionWithRay(Ray3d(Point3d(0.0, 0.0, -4.0), numpy.array((0.0, 0.0, 1.0)))) ;\n",
    "ellipsoid.intersectionWithRay(Ray3d(Point3d(0.0, 0.0, -4.0), numpy.array((0.0, 0.0, 1.0))), False) ;"
   ]
  },
  {
   "cell_type": "code",
   "execution_count": 104,
   "metadata": {},
   "outputs": [],
   "source": [
    "ellipsoid.intersectionWithSegment(Segment3d(Point3d(0.0, 0.0, 0.0), Point3d(1.0, 0.0, 0.0))) ;"
   ]
  },
  {
   "cell_type": "code",
   "execution_count": 105,
   "metadata": {},
   "outputs": [],
   "source": [
    "ellipsoid.applyTransformation(Transformation3d.Identity()) ;"
   ]
  },
  {
   "cell_type": "markdown",
   "metadata": {},
   "source": [
    "#### Geometry ▸ 3D ▸ Objects ▸ Cone"
   ]
  },
  {
   "cell_type": "markdown",
   "metadata": {},
   "source": [
    "*To be completed...*"
   ]
  },
  {
   "cell_type": "markdown",
   "metadata": {},
   "source": [
    "#### Geometry ▸ 3D ▸ Objects ▸ Pyramid"
   ]
  },
  {
   "cell_type": "markdown",
   "metadata": {},
   "source": [
    "*To be completed...*"
   ]
  },
  {
   "cell_type": "markdown",
   "metadata": {},
   "source": [
    "#### Geometry ▸ 3D ▸ Intersection"
   ]
  },
  {
   "cell_type": "markdown",
   "metadata": {},
   "source": [
    "*To be completed...*"
   ]
  },
  {
   "cell_type": "markdown",
   "metadata": {},
   "source": [
    "### Geometry ▸ 3D ▸ Transformations"
   ]
  },
  {
   "cell_type": "markdown",
   "metadata": {},
   "source": [
    "### Geometry ▸ Transformations ▸ Rotations"
   ]
  },
  {
   "cell_type": "markdown",
   "metadata": {},
   "source": [
    "### Geometry ▸ Transformations ▸ Rotations ▸ Quaternion"
   ]
  },
  {
   "cell_type": "markdown",
   "metadata": {},
   "source": [
    "**Geometry ▸ Transformations ▸ Rotations ▸ Quaternion ▸ Constructors**"
   ]
  },
  {
   "cell_type": "code",
   "execution_count": 106,
   "metadata": {},
   "outputs": [],
   "source": [
    "quaternion = Quaternion(0.0, 0.0, 0.0, 1.0, Quaternion.Format.XYZS) ;"
   ]
  },
  {
   "cell_type": "code",
   "execution_count": 107,
   "metadata": {},
   "outputs": [],
   "source": [
    "quaternion = Quaternion.Undefined() ;"
   ]
  },
  {
   "cell_type": "code",
   "execution_count": 108,
   "metadata": {},
   "outputs": [],
   "source": [
    "quaternion = Quaternion.Unit() ;"
   ]
  },
  {
   "cell_type": "code",
   "execution_count": 109,
   "metadata": {},
   "outputs": [],
   "source": [
    "quaternion = Quaternion.XYZS(0.0, 0.0, 0.0, 1.0) ;"
   ]
  },
  {
   "cell_type": "code",
   "execution_count": 110,
   "metadata": {},
   "outputs": [],
   "source": [
    "quaternion = Quaternion.RotationVector(RotationVector.Unit()) ;"
   ]
  },
  {
   "cell_type": "code",
   "execution_count": 111,
   "metadata": {},
   "outputs": [],
   "source": [
    "quaternion = Quaternion.RotationMatrix(RotationMatrix.Unit()) ;"
   ]
  },
  {
   "cell_type": "code",
   "execution_count": 112,
   "metadata": {},
   "outputs": [],
   "source": [
    "quaternion = Quaternion.Parse(\"[0.0, 0.0, 0.0, 1.0]\", Quaternion.Format.XYZS)"
   ]
  },
  {
   "cell_type": "markdown",
   "metadata": {},
   "source": [
    "**Geometry ▸ Transformations ▸ Rotations ▸ Quaternion ▸ Operators**"
   ]
  },
  {
   "cell_type": "code",
   "execution_count": 113,
   "metadata": {},
   "outputs": [],
   "source": [
    "quaternion == quaternion\n",
    "quaternion != quaternion\n",
    "\n",
    "quaternion = quaternion * quaternion\n",
    "quaternion = quaternion / quaternion\n",
    "\n",
    "vector = quaternion * numpy.array((1.0, 0.0, 0.0))"
   ]
  },
  {
   "cell_type": "markdown",
   "metadata": {},
   "source": [
    "**Geometry ▸ Transformations ▸ Rotations ▸ Quaternion ▸ Methods**"
   ]
  },
  {
   "cell_type": "code",
   "execution_count": 114,
   "metadata": {},
   "outputs": [],
   "source": [
    "quaternion.isDefined() ;"
   ]
  },
  {
   "cell_type": "code",
   "execution_count": 115,
   "metadata": {},
   "outputs": [],
   "source": [
    "quaternion.isUnitary() ;"
   ]
  },
  {
   "cell_type": "code",
   "execution_count": 116,
   "metadata": {},
   "outputs": [],
   "source": [
    "quaternion.isNear(quaternion, Angle.Radians(0.0)) ;"
   ]
  },
  {
   "cell_type": "code",
   "execution_count": 117,
   "metadata": {},
   "outputs": [],
   "source": [
    "quaternion.x() ;\n",
    "quaternion.y() ;\n",
    "quaternion.z() ;\n",
    "quaternion.s() ;"
   ]
  },
  {
   "cell_type": "code",
   "execution_count": 118,
   "metadata": {},
   "outputs": [],
   "source": [
    "quaternion.getVectorPart() ;\n",
    "quaternion.getScalarPart() ;"
   ]
  },
  {
   "cell_type": "code",
   "execution_count": 119,
   "metadata": {},
   "outputs": [],
   "source": [
    "quaternion.toNormalized() ;"
   ]
  },
  {
   "cell_type": "code",
   "execution_count": 120,
   "metadata": {},
   "outputs": [],
   "source": [
    "quaternion.toConjugate() ;"
   ]
  },
  {
   "cell_type": "code",
   "execution_count": 121,
   "metadata": {},
   "outputs": [],
   "source": [
    "quaternion.toInverse() ;"
   ]
  },
  {
   "cell_type": "code",
   "execution_count": 122,
   "metadata": {},
   "outputs": [],
   "source": [
    "# pow\n",
    "# exp\n",
    "# log\n",
    "# norm"
   ]
  },
  {
   "cell_type": "code",
   "execution_count": 123,
   "metadata": {},
   "outputs": [],
   "source": [
    "quaternion.crossMultiply(quaternion) ;"
   ]
  },
  {
   "cell_type": "code",
   "execution_count": 124,
   "metadata": {},
   "outputs": [],
   "source": [
    "quaternion.dotMultiply(quaternion) ;"
   ]
  },
  {
   "cell_type": "code",
   "execution_count": 125,
   "metadata": {},
   "outputs": [],
   "source": [
    "quaternion.rotateVector(numpy.array((1.0, 0.0, 0.0))) ;"
   ]
  },
  {
   "cell_type": "code",
   "execution_count": 126,
   "metadata": {},
   "outputs": [],
   "source": [
    "quaternion.toVector(Quaternion.Format.XYZS) ;"
   ]
  },
  {
   "cell_type": "code",
   "execution_count": 127,
   "metadata": {},
   "outputs": [],
   "source": [
    "quaternion.toString(Quaternion.Format.XYZS) ;"
   ]
  },
  {
   "cell_type": "code",
   "execution_count": 128,
   "metadata": {},
   "outputs": [],
   "source": [
    "quaternion.normalize() ;"
   ]
  },
  {
   "cell_type": "code",
   "execution_count": 129,
   "metadata": {},
   "outputs": [],
   "source": [
    "quaternion.conjugate() ;"
   ]
  },
  {
   "cell_type": "code",
   "execution_count": 130,
   "metadata": {},
   "outputs": [],
   "source": [
    "quaternion.inverse() ;"
   ]
  },
  {
   "cell_type": "code",
   "execution_count": 131,
   "metadata": {},
   "outputs": [],
   "source": [
    "quaternion.rectify() ;"
   ]
  },
  {
   "cell_type": "markdown",
   "metadata": {},
   "source": [
    "### Geometry ▸ Transformations ▸ Rotations ▸ RotationVector"
   ]
  },
  {
   "cell_type": "markdown",
   "metadata": {},
   "source": [
    "**Geometry ▸ Transformations ▸ Rotations ▸ RotationVector ▸ Constructors**"
   ]
  },
  {
   "cell_type": "code",
   "execution_count": 132,
   "metadata": {},
   "outputs": [],
   "source": [
    "rotation_vector = RotationVector(numpy.array((0.0, 0.0, 1.0)), Angle.Degrees(45.0)) ;"
   ]
  },
  {
   "cell_type": "code",
   "execution_count": 133,
   "metadata": {},
   "outputs": [],
   "source": [
    "RotationVector.Undefined() ;"
   ]
  },
  {
   "cell_type": "code",
   "execution_count": 134,
   "metadata": {},
   "outputs": [],
   "source": [
    "RotationVector.Unit() ;"
   ]
  },
  {
   "cell_type": "code",
   "execution_count": 135,
   "metadata": {},
   "outputs": [],
   "source": [
    "RotationVector.X(Angle.Degrees(45.0)) ;"
   ]
  },
  {
   "cell_type": "code",
   "execution_count": 136,
   "metadata": {},
   "outputs": [],
   "source": [
    "RotationVector.Y(Angle.Degrees(45.0)) ;"
   ]
  },
  {
   "cell_type": "code",
   "execution_count": 137,
   "metadata": {},
   "outputs": [],
   "source": [
    "RotationVector.Z(Angle.Degrees(45.0)) ;"
   ]
  },
  {
   "cell_type": "code",
   "execution_count": 138,
   "metadata": {},
   "outputs": [],
   "source": [
    "RotationVector.Quaternion(Quaternion.Unit()) ;"
   ]
  },
  {
   "cell_type": "code",
   "execution_count": 139,
   "metadata": {},
   "outputs": [],
   "source": [
    "RotationVector.RotationMatrix(RotationMatrix.Unit()) ;"
   ]
  },
  {
   "cell_type": "markdown",
   "metadata": {},
   "source": [
    "**Geometry ▸ Transformations ▸ Rotations ▸ RotationVector ▸ Operators**"
   ]
  },
  {
   "cell_type": "code",
   "execution_count": 140,
   "metadata": {},
   "outputs": [],
   "source": [
    "rotation_vector == rotation_vector ;\n",
    "rotation_vector != rotation_vector ;"
   ]
  },
  {
   "cell_type": "markdown",
   "metadata": {},
   "source": [
    "**Geometry ▸ Transformations ▸ Rotations ▸ RotationVector ▸ Methods**"
   ]
  },
  {
   "cell_type": "code",
   "execution_count": 141,
   "metadata": {},
   "outputs": [],
   "source": [
    "rotation_vector.isDefined() ;"
   ]
  },
  {
   "cell_type": "code",
   "execution_count": 142,
   "metadata": {},
   "outputs": [],
   "source": [
    "rotation_vector.getAxis() ;\n",
    "rotation_vector.getAngle() ;"
   ]
  },
  {
   "cell_type": "code",
   "execution_count": 143,
   "metadata": {},
   "outputs": [],
   "source": [
    "rotation_vector.toString() ;\n",
    "rotation_vector.toString(3) ;"
   ]
  },
  {
   "cell_type": "markdown",
   "metadata": {},
   "source": [
    "### Geometry ▸ Transformations ▸ Rotations ▸ RotationMatrix"
   ]
  },
  {
   "cell_type": "markdown",
   "metadata": {},
   "source": [
    "**Geometry ▸ Transformations ▸ Rotations ▸ RotationMatrix ▸ Constructors**"
   ]
  },
  {
   "cell_type": "code",
   "execution_count": null,
   "metadata": {},
   "outputs": [],
   "source": []
  },
  {
   "cell_type": "markdown",
   "metadata": {},
   "source": [
    "**Geometry ▸ Transformations ▸ Rotations ▸ RotationMatrix ▸ Operators**"
   ]
  },
  {
   "cell_type": "code",
   "execution_count": null,
   "metadata": {},
   "outputs": [],
   "source": []
  },
  {
   "cell_type": "markdown",
   "metadata": {},
   "source": [
    "**Geometry ▸ Transformations ▸ Rotations ▸ RotationMatrix ▸ Methods**"
   ]
  },
  {
   "cell_type": "code",
   "execution_count": null,
   "metadata": {},
   "outputs": [],
   "source": []
  }
 ],
 "metadata": {
  "kernelspec": {
   "display_name": "Python 3",
   "language": "python",
   "name": "python3"
  },
  "language_info": {
   "codemirror_mode": {
    "name": "ipython",
    "version": 3
   },
   "file_extension": ".py",
   "mimetype": "text/x-python",
   "name": "python",
   "nbconvert_exporter": "python",
   "pygments_lexer": "ipython3",
   "version": "3.6.8"
  }
 },
 "nbformat": 4,
 "nbformat_minor": 2
}
